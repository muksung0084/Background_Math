{
 "cells": [
  {
   "cell_type": "markdown",
   "id": "896682e3-8cf0-44a5-bf89-823acab4f5c7",
   "metadata": {},
   "source": [
    "3번 문항은 \"적분 계산기\" 를 만들고 이를 활용하여 최종적으로 단별량 분포에서의  \"확률 계산기\" 만들기입니다. 10점 \n",
    "\n",
    "먼저 본 강의에서 학습한 univariate 분포들에 대해 적용가능한 적분 계산기를 만드십시오.\n",
    "\n",
    "그리고 분포의 미지수가 x일 때 x가 특정값 k보다 작을 확률을 계산해주는 확률 계산기를 최종적으로 제시하십시오.\n",
    "\n",
    "예를 들어, HW3의 Problem 1. (a)를 계산한다고 할 때 본인이 작성한 확률 계산기가 어떻게 작동할지 고민하여 답안을 제시하십시오."
   ]
  },
  {
   "cell_type": "markdown",
   "id": "31c36fb5-f3fd-464d-877c-8cfb3c77d920",
   "metadata": {
    "tags": []
   },
   "source": [
    "# 3.적분-확률 계산 프로그램 코드"
   ]
  },
  {
   "cell_type": "code",
   "execution_count": 404,
   "id": "6fe4bb8c-c523-4fb8-8799-2148a21ec96c",
   "metadata": {},
   "outputs": [],
   "source": [
    "import numpy as np\n",
    "import matplotlib.pyplot as plt   # 보조표현을 위해 첨가하였습니다. ( 연속형 함수 적분시 ) "
   ]
  },
  {
   "cell_type": "markdown",
   "id": "20d507d8-f07e-499f-a198-9aa120e358c7",
   "metadata": {
    "jp-MarkdownHeadingCollapsed": true,
    "tags": []
   },
   "source": [
    "## 이산형 확률변수 관련 계산 함수 [Bern,Bin,Ge,Poi]"
   ]
  },
  {
   "cell_type": "code",
   "execution_count": 405,
   "id": "2a979dc0-2607-4474-9f3a-b8f1ec5f862a",
   "metadata": {},
   "outputs": [],
   "source": [
    "def binomial_probability_func(choice_number) : \n",
    "    \n",
    "    def factorial(n):                    # 팩토리얼 함수 \n",
    "        return n * factorial(n-1) if n > 1 else 1\n",
    "\n",
    "    def combination(n,x):               # 콤비네이션 함수 \n",
    "        nCx = factorial(n)/(factorial(x)*factorial(n-x))\n",
    "        return nCx\n",
    "\n",
    "    def Bern() : #성공과 실패의 확률만 존재합니다.     성공과 실패 두가지의 경우만 존재하는 경우 \n",
    "        print(\"\\t\\t베르누이 분포를 계산하는 함수입니다.\")\n",
    "        print(\"\\t\\t계산을 위해 필요한 성공확률 p값을 입력해 주세요 \")\n",
    "        p = float(input())\n",
    "        sucess = p \n",
    "        fail = 1-p \n",
    "        return print(\"성공확률 : \", sucess , \"실패확률 : \" ,fail, \" 을 따르는 베르누이 분포입니다. \")\n",
    "\n",
    "    def Bin() :  # 성공과 실패가 존재하느 상황에서, 총 시행하는 횟수(n) 대비 성공이 나오는 횟수가 따르는 확률분포 \n",
    "        print(\"\\t\\t이항분포를 계산하는 함수입니다.\")\n",
    "        print(\"\\t\\t성공확률 p, 시행횟수 n, 성공횟수 x를 \"\"','\"\" 로 구분하여 차례로 입력해 주세요.띄어쓰기 하지 말아주세요. !! ex) 0.5,10,3 \\n\")\n",
    "        p,n,x = map(float,input().split(','))\n",
    "        nCx = combination(n,x)\n",
    "        just_condition_sucess = nCx*(p**x)*((1-p)**(n-x))\n",
    "        cumulative_sucess = 0\n",
    "        for i in range(int(x+1)):\n",
    "            sucess = combination(n,i)*(p**i)*((1-p)**(n-i))        \n",
    "            cumulative_sucess+=sucess \n",
    "        return print(\"해당 조건의 확률변수에 대한 확률값은 \", round(just_condition_sucess,3) ,\"이며\" ,n,'회시도 중', x,'번 이하 성공에서 누적확률은 ', round(cumulative_sucess,3) ,\"입니다.\")\n",
    "    \n",
    "    def Ge() :  # 성공과 실패만 존재하는 상황에서, 마지막에 성공할때까지 = 처음 성공할때 (x)까지 반복하는 횟수가 따른는 확률분포 .     ex) 동전 5번 던져서 4번 실패하고, 5번째 성공할 확률   ...  5번 던져서, 1번에 성공 -2번째, 3번째 ,4번째, 5번째 각각 나올 확률 합 --> 누적 \n",
    "        print(\"\\t\\t기하분포를 계산하는 함수입니다.\")\n",
    "        print(\"\\t\\t성공확률 p, 반복횟수 x를 \"\"','\"\" 로 구분하여 차례로 입력해 주세요.띄어쓰기 하지 말아주세요.!! ex) 0.5,10 \\n\")\n",
    "        p,x = map(float,input().split(','))\n",
    "        \n",
    "        just_condition_sucess = ((1-p)**(x-1))*p\n",
    "        cumulative_sucess = 0\n",
    "        for i in range(1,int(x+1)):\n",
    "            sucess = ((1-p)**(i-1))*p\n",
    "            cumulative_sucess+=sucess\n",
    "        return print(\"해당 조건의 확률변수에 대한 확률값은 \" ,round(just_condition_sucess,3),\"이며\",x,'회 이하에 대한 누적확률은', round(cumulative_sucess,3), \"입니다.\")\n",
    "\n",
    "    def Poi() :  # 임의의 사건이 단위시간당 발생하는 건수 lambd가 따르는 확률 분포, lamdba라는 통계치가 존재하는 상황에서 x(몇번 발생할까)에 대한 확률 분포.  \n",
    "        print(\"\\t\\tLambda값과 발생횟수 x를 \"\"','\"\" 로 구분하여 차례로 입력해 주세요.띄어쓰기 하지 말아주세요. ex) 0.5,10 \\n\")\n",
    "        L,x = map(float,input().split(','))\n",
    "        \n",
    "        just_condition_sucess = ((L**x)/(factorial(x)))*np.exp(-L)\n",
    "        cumulative_sucess=0\n",
    "        for i in range(int(x+1)):\n",
    "            sucess = ((L**i)/(factorial(i)))*np.exp(-L)\n",
    "            cumulative_sucess+=sucess\n",
    "        return print(\"해당 조건의 확률변수에 대한 확률값은 \",round(just_condition_sucess,3),\"이며\",x,\"번 이하 에서의 누적확률은\" ,round(cumulative_sucess,3),\"입니다.\")\n",
    "    \n",
    "    if choice_number == 1:\n",
    "        Bern()\n",
    "    elif choice_number == 2 :\n",
    "        Bin()\n",
    "    elif choice_number == 3 :\n",
    "        Ge()\n",
    "    else : \n",
    "        Poi()\n"
   ]
  },
  {
   "cell_type": "markdown",
   "id": "fe2d7bf2-7efa-4453-b994-0aa1a163c90f",
   "metadata": {
    "jp-MarkdownHeadingCollapsed": true,
    "tags": []
   },
   "source": [
    "## 연속형 확률변수 관련 계산 함수 "
   ]
  },
  {
   "cell_type": "code",
   "execution_count": 406,
   "id": "0fe2305f-28bb-424e-ba66-1705d59184d6",
   "metadata": {},
   "outputs": [],
   "source": [
    "def con_integral_cal(x1,x2,my_function):\n",
    "    grid = 1000\n",
    "    X = np.linspace(x1,x2,grid)\n",
    "    x=X\n",
    "    Y= eval(my_function)\n",
    "    dx1 = ((x2-x1)/(grid-1))/2\n",
    "    dx2 = (x2-x1)/(grid-1)\n",
    "    dx = np.asarray([dx1] + [dx2] * (grid-2) +[dx1])\n",
    "    \n",
    "    result = sum(Y*dx2)\n",
    "    # graph\n",
    "    print(\"Graph\")\n",
    "    X_graph = np.linspace(x1-10,x2+10,grid)\n",
    "    x = X_graph\n",
    "    Y_graph =eval(my_function)\n",
    "\n",
    "    axis_xx = X_graph\n",
    "    axis_xy = [0]*len(axis_xx)\n",
    "    max_graph = max(Y_graph)\n",
    "    axis_yy = np.linspace(0,max_graph,grid)\n",
    "    axis_yx = [0]*len(Y_graph)\n",
    "    \n",
    "    plt.grid(ls='--')\n",
    "    plt.plot(axis_xx,axis_xy,color='black',alpha=0.8) # X축 표시\n",
    "    plt.plot(axis_yx,axis_yy,color='black',alpha=0.8) # Y축 표시\n",
    "    plt.plot(X_graph,Y_graph,color='blue',label ='y={}'.format(my_function))          # 함수 GRAPH 대략적인 표시\n",
    "    plt.bar(X,Y,width=dx2,color='red',alpha=0.6)     # 넓이\n",
    "    plt.legend()\n",
    "    plt.show()\n",
    "    \n",
    "    return print(\"계산결과는 다음과 같습니다. \\n # integrated result = {0:.5f}\".format(result))\n"
   ]
  },
  {
   "cell_type": "markdown",
   "id": "ae5058ea-1199-4fbd-9634-459184eea671",
   "metadata": {
    "jp-MarkdownHeadingCollapsed": true,
    "tags": []
   },
   "source": [
    "## 질문 봇 _ 확률계산및 적분값 계산등 여러 선택사항 확인과 주의사항을 묻는 함수"
   ]
  },
  {
   "cell_type": "code",
   "execution_count": 407,
   "id": "6887b181-e0a2-49d1-bdfd-4651bab47be6",
   "metadata": {},
   "outputs": [],
   "source": [
    "def ask_problem_solving() :\n",
    "    print('안녕하십니까, 단별량 함수에 대한 적분계산과 확률계산을 위한 프로그램입니다.') \n",
    "##########################################################          \n",
    "    def continue_ask_question() : \n",
    "        print(\"----------------------------------------------------------------------------------------------------------------------------\")\n",
    "        print(\"연속형 확률변수를 선택하셨군요.\")\n",
    "        print(\"연속형 확률변수의 경우 함수식 입력이 중요합니다\")\n",
    "        print(\"아래의 주의사항에 맞추어 함수식을 입력해 주시면 감사하겠습니다\\n\") \n",
    "        print(\"\\t !주의0. 소문자로 변수를 표현해 주세요// ex) x^2, 2x\")\n",
    "        print(\"\\t !주의1. 제곱은 ^로 표현하여 주시고, 곱하기 연산은 *의 표현을 명확히 부탁드립니다.\")\n",
    "        print(\"\\t !주의2. exp나 log의 함수를 원하신다면 (변수관련수식)의 입력구분을 명확히 부탁드립니다.\")\n",
    "        print(\"\\t !주의3. 수식간의 전반적인 연산 표현을 \"\"','\"\"로 구분하여 입력을 부탁드립니다. 예시표현식을 필히 참고해 주세요.\")\n",
    "        print(\"\\t !주의4. 기본적으로 log는 밑이 10인 로그만 다루며,밑이 e인 자연로그를 원하시면 ln으로 표현해 주세요.\")\n",
    "        print(\"\\t !주의5. 삼각함수 또한 구현가능합니다. 다만 적분 구간을 정의하실때, 라디언으로 표시해주셔야 하는 점 참고해 주세요\")\n",
    "        print(\"\\t\\t  ex) x+x^2, 2개의 수식이 +로 연결되었죠? +구분기호는 입력안하고 쉼표로 --> x,x^2 로 입력 부탁드립니다.\" )\n",
    "        print(\"\\t\\t  ex) x-x^2, 2개의 수식이 -로 연결되었죠? -구분기호는 입력이 필요      --> x,-x^2 로 입력 부탁드립니다.\" )\n",
    "        print(\"\\t\\t  ex)  x^(log(x)) + exp(x^2) - 300 --> x^(log(x)),exp(x^2),-300 로 입력 부탁드립니다.\" )\n",
    "        print(\"쉼표 구분 잊지 말아주세요.\")\n",
    "        print(\"-----------------------------------------------------------------------------------------------------------------------------\")\n",
    "        print(\"\\n위의 주의사항을 잘 이해 하셨나요?\")\n",
    "        print(\"그럼 함수식 입력을 부탁드리겠습니다.\\n\")\n",
    "        print(\"주의사항이 이해가 되지 않으셨다면 다음 수식을 복사하여 붙여넣어 보세요\")\n",
    "        print(\"0.01*exp(-x/100),-20,20  // HW3활용\")\n",
    "        function_expression = input().split(',')\n",
    "        print(\"입력하신 내용은 위와 같습니다.\")\n",
    "\n",
    "        my_function =str()\n",
    "        for i in range(len(function_expression)) :\n",
    "            function_expression[i]=function_expression[i].replace('exp','np.exp')\n",
    "            function_expression[i]=function_expression[i].replace('log','np.log10')\n",
    "            function_expression[i]=function_expression[i].replace('ln','np.log')\n",
    "            function_expression[i]=function_expression[i].replace('^','**')\n",
    "            function_expression[i]=function_expression[i].replace('sin','np.sin')\n",
    "            function_expression[i]=function_expression[i].replace('cos','np.cos')\n",
    "            function_expression[i]=function_expression[i].replace('tan','np.tan')\n",
    "            if function_expression[i][0] =='-' :\n",
    "                my_function =my_function+function_expression[i]\n",
    "            elif i == 0 : \n",
    "                my_function = function_expression[i]\n",
    "            elif 0<i< len(function_expression)+1 :\n",
    "                my_function = my_function + '+' + function_expression[i]\n",
    "\n",
    "        print(\"\\n\\t 원하시는 함수식은 계산을 위해 다음과 같이 표현됩니다.\\n\")\n",
    "        print(\"## 계산을 위해 변환된 식 :\",my_function,'\\n')\n",
    "        print(\"\\t np가 붙는 부분은 고려하지 마시고,제곱은**로 표현되는 점과 부호 및 수식의 전반적인 표현이 원하시는 함수와 같은지 확인을 부탁드립니다.\\n\")\n",
    "        print(\"\\t ! 혹시 로그를 사용하셨습니까? 수식 변환과정에서 log => log10, ln => log로 표현되니 혼동이 없으시길 바랍니다.\")\n",
    "        print(\"진행 하시겠습니까?Y/N?\") \n",
    "        continue_answer = input()\n",
    "\n",
    "        if continue_answer in ['Y','y','yes','YES','Yes','ㅛ'] :\n",
    "            print(\"-----------------------------------------------------------------------------------------------------------------------------\")\n",
    "            print(\"이제 해당 함수식을 기반으로 누적확률을 계산합니다.\")\n",
    "            try :\n",
    "                print(\"\\t 연속형 확률분포 함수에서 원하는 범위에서의 적분(누적확률)을 위하여 구간을 설정해 주시면 감사하겠습니다.\")\n",
    "                print(\"\\t 입력은 \"\"','\"\" 를 구분으로 시작점(x1), 끝점(x2)를 지정해 주세요.띄어쓰기는 하지 마시고 ,로 구분합니다. / ex) 0,8.76 \")\n",
    "                print(\"\\t 삼각함수의 경우 라디언으로 표시하여야 합니다. 따라서 생각하시는 값이 각도라면 라디언으로 (*pi/180) 변환 후 입력해 주세요.\")\n",
    "                x1,x2 = map(float,input().split(','))\n",
    "                print(x1,x2)\n",
    "                con_integral_cal(x1,x2,my_function) \n",
    "\n",
    "            except : \n",
    "                print(\"함수 과정에서 문제가 발생하였습니다. 다시 함수를 시작합니다. 만약 문제가 없는데 자꾸 이상이 생기면 코드를 만든 담당자에게 문의 바랍니다.\")\n",
    "\n",
    "        else: \n",
    "            print(\"계속하고 싶지 않다고 응답하셨습니다. 프로그램을 종료합니다.\\n\\n\") \n",
    "#########################################################\n",
    "    def bino_ask_question() : \n",
    "        print(\"----------------------------------------------------------------------------------------------------------------------------\")\n",
    "        print(\"이산형 확률변수를 선택하셨군요.\")\n",
    "        print(\"저희는 이산형 확률 분포 중 다음과 같은 형태의 확률변수의 분포만 다루고 있습니다.\\n\")\n",
    "        print(\"해당 확률분포에 대한 조건을 확인해 주시고, 가장 적합한 번호를 입력하여 주세요\\n\") \n",
    "\n",
    "        print(\"\\t1. 베르누이분포, [확률변수가 성공과 실패 단 2가지의 경우만 존재하는 경우입니다. 성공확률(P)을 알고계시다면, 실패확률(1-P)을 알려드립니다!]\\n\") \n",
    "\n",
    "        print(\"\\t2. 이항분포, [성공확률(P)을 알고 계시는 상황에서, n번의 시도중 X번 성공할 확률을 알고 싶으신가요? 그렇다면 이항분포를 선택하십시오!] \\n\" )\n",
    "\n",
    "        print(\"\\t3. 기하분포, [성공확률(P)을 알고 계시는 상황에서, 계속 실패하다 결국에는 성공하기까지 시행 횟수(X)에 확률을 알아보고 싶으신가요? 그렇다면 기하분포를 선택하십시오!] \\n\" )\n",
    "\n",
    "        print(\"\\t4. 포아송분포, [임의의 사건에 대해서 단위시간당 발생하는 건수,빈도수등에 대한 지표(L)를 알고 계신 상황에서, 발생하는 건수(X)가 달라짐에 따라 그 확률이 어떻게 변화하는지 보고싶으신가요? 그럼 포아송분포를 선택하십시오!]\" )\n",
    "        print(\"-----------------------------------------------------------------------------------------------------------------------------\")\n",
    "        number_list = [0,(1,'베르누이'),(2,'이항분포'),(3,'기하분포'),(4,'포아송분포')]\n",
    "        choice = int(input())\n",
    "        try :\n",
    "            if choice in [1,2,3,4] :\n",
    "                print(\" {} 번을 선택하셨군요, {}를 활용하여 계산을 도와드릴게요.\\n\".format(number_list[choice][0],number_list[choice][1]))\n",
    "                print(\"계속해서 진행을 원하시면 문자 Y를 입력하시고, 그냥 멈추시려면 N을 입력해주세요\") \n",
    "                continue_answer = str(input())\n",
    "\n",
    "                if continue_answer in ['Y','y','yes','YES','Yes','ㅛ'] :\n",
    "\n",
    "                    try :\n",
    "                        binomial_probability_func(choice)\n",
    "                    except : \n",
    "                        print(\"함수 과정에서 문제가 발생하였습니다. 다시 함수를 시작합니다. 만약 문제가 없는데 자꾸 이상이 생기면 코드를 만든 담당자에게 문의 바랍니다.\")\n",
    "                        binomial_probability_func(choice)\n",
    "                else: \n",
    "                    return print(\"계속하고 싶지 않다고 응답하셨습니다. 프로그램을 종료합니다.\\n\\n\") \n",
    "        except : \n",
    "            print(\"1~4에 대한 적절한 숫자가 입력되지 않으신거 같습니다. 다시 처음부터 주의사항을 잘 읽어주시고 시작 부탁드려요.\\n\\n\")\n",
    "            return bino_ask_question()\n",
    "###############################################################\n",
    "    print(\"\\n 알아보고자 하는 확률변수가 이산형인지, 연속형인지 선택하여 주세요.\")\n",
    "    print(\" 1 : 이산형 \\n 2 : 연속형\")\n",
    "    choice_list = [0,(1,'이산형'),(2,'연속형')]\n",
    "    di_con_choice = int(input())\n",
    "    \n",
    "    try :\n",
    "        if di_con_choice in [1,2] :\n",
    "            print(\" {} 번을 선택하셨군요, {}를 활용하여 계산을 도와드릴게요.\\n\".format(choice_list[di_con_choice][0],choice_list[di_con_choice][1]))\n",
    "            print(\"계속해서 진행을 원하시면 문자 Y를 입력하시고, 그냥 멈추시려면 N을 입력해주세요\") \n",
    "            continue_answer = str(input())\n",
    "            if di_con_choice == 1 :\n",
    "                bino_ask_question()            \n",
    "            else : \n",
    "                continue_ask_question()\n",
    "        else : \n",
    "            print(\"1 아니면 2로 입력 부탁드립니다.\\n 다시 시작 됩니다.\")\n",
    "            print(\"####################################################################################################\")\n",
    "            problem_solving()\n",
    "    except :\n",
    "        return "
   ]
  },
  {
   "cell_type": "markdown",
   "id": "5a3d5a70-0a92-4933-bf97-a2b2ec269113",
   "metadata": {
    "tags": []
   },
   "source": [
    "# [실행결과] 이산형"
   ]
  },
  {
   "cell_type": "code",
   "execution_count": 403,
   "id": "c215c5a7-41df-4b47-beac-a10eef63885f",
   "metadata": {
    "tags": []
   },
   "outputs": [
    {
     "name": "stdout",
     "output_type": "stream",
     "text": [
      "안녕하십니까, 단별량 함수에 대한 적분계산과 확률계산을 위한 프로그램입니다.\n",
      "\n",
      " 알아보고자 하는 확률변수가 이산형인지, 연속형인지 선택하여 주세요.\n",
      " 1 : 이산형 \n",
      " 2 : 연속형\n"
     ]
    },
    {
     "name": "stdin",
     "output_type": "stream",
     "text": [
      " 1\n"
     ]
    },
    {
     "name": "stdout",
     "output_type": "stream",
     "text": [
      " 1 번을 선택하셨군요, 이산형를 활용하여 계산을 도와드릴게요.\n",
      "\n",
      "계속해서 진행을 원하시면 문자 Y를 입력하시고, 그냥 멈추시려면 N을 입력해주세요\n"
     ]
    },
    {
     "name": "stdin",
     "output_type": "stream",
     "text": [
      " y\n"
     ]
    },
    {
     "name": "stdout",
     "output_type": "stream",
     "text": [
      "----------------------------------------------------------------------------------------------------------------------------\n",
      "이산형 확률변수를 선택하셨군요.\n",
      "저희는 이산형 확률 분포 중 다음과 같은 형태의 확률변수의 분포만 다루고 있습니다.\n",
      "\n",
      "해당 확률분포에 대한 조건을 확인해 주시고, 가장 적합한 번호를 입력하여 주세요\n",
      "\n",
      "\t1. 베르누이분포, [확률변수가 성공과 실패 단 2가지의 경우만 존재하는 경우입니다. 성공확률(P)을 알고계시다면, 실패확률(1-P)을 알려드립니다!]\n",
      "\n",
      "\t2. 이항분포, [성공확률(P)을 알고 계시는 상황에서, n번의 시도중 X번 성공할 확률을 알고 싶으신가요? 그렇다면 이항분포를 선택하십시오!] \n",
      "\n",
      "\t3. 기하분포, [성공확률(P)을 알고 계시는 상황에서, 계속 실패하다 결국에는 성공하기까지 시행 횟수(X)에 확률을 알아보고 싶으신가요? 그렇다면 기하분포를 선택하십시오!] \n",
      "\n",
      "\t4. 포아송분포, [임의의 사건에 대해서 단위시간당 발생하는 건수,빈도수등에 대한 지표(L)를 알고 계신 상황에서, 발생하는 건수(X)가 달라짐에 따라 그 확률이 어떻게 변화하는지 보고싶으신가요? 그럼 포아송분포를 선택하십시오!]\n",
      "-----------------------------------------------------------------------------------------------------------------------------\n"
     ]
    },
    {
     "name": "stdin",
     "output_type": "stream",
     "text": [
      " 2\n"
     ]
    },
    {
     "name": "stdout",
     "output_type": "stream",
     "text": [
      " 2 번을 선택하셨군요, 이항분포를 활용하여 계산을 도와드릴게요.\n",
      "\n",
      "계속해서 진행을 원하시면 문자 Y를 입력하시고, 그냥 멈추시려면 N을 입력해주세요\n"
     ]
    },
    {
     "name": "stdin",
     "output_type": "stream",
     "text": [
      " y\n"
     ]
    },
    {
     "name": "stdout",
     "output_type": "stream",
     "text": [
      "\t\t이항분포를 계산하는 함수입니다.\n",
      "\t\t성공확률 p, 시행횟수 n, 성공횟수 x를 ',' 로 구분하여 차례로 입력해 주세요.띄어쓰기 하지 말아주세요. !! ex) 0.5,10,3 \n",
      "\n"
     ]
    },
    {
     "name": "stdin",
     "output_type": "stream",
     "text": [
      " 0.5,10,3\n"
     ]
    },
    {
     "name": "stdout",
     "output_type": "stream",
     "text": [
      "해당 조건의 확률변수에 대한 확률값은  0.117 이며 10.0 회시도 중 3.0 번 이하 성공에서 누적확률은  0.172 입니다.\n"
     ]
    }
   ],
   "source": [
    "# 이항분포 - 해당 조건에서의 확률값, 누적확률분포 계산 예시\n",
    "ask_problem_solving()"
   ]
  },
  {
   "cell_type": "code",
   "execution_count": 395,
   "id": "f479b182-0396-4a8e-9701-8742475b9b30",
   "metadata": {
    "tags": []
   },
   "outputs": [
    {
     "name": "stdout",
     "output_type": "stream",
     "text": [
      "안녕하십니까, 단별량 함수에 대한 적분계산과 확률계산을 위한 프로그램입니다.\n",
      "\n",
      " 알아보고자 하는 확률변수가 이산형인지, 연속형인지 선택하여 주세요.\n",
      " 1 : 이산형 \n",
      " 2 : 연속형\n"
     ]
    },
    {
     "name": "stdin",
     "output_type": "stream",
     "text": [
      " 1\n"
     ]
    },
    {
     "name": "stdout",
     "output_type": "stream",
     "text": [
      " 1 번을 선택하셨군요, 이산형를 활용하여 계산을 도와드릴게요.\n",
      "\n",
      "계속해서 진행을 원하시면 문자 Y를 입력하시고, 그냥 멈추시려면 N을 입력해주세요\n"
     ]
    },
    {
     "name": "stdin",
     "output_type": "stream",
     "text": [
      " y\n"
     ]
    },
    {
     "name": "stdout",
     "output_type": "stream",
     "text": [
      "----------------------------------------------------------------------------------------------------------------------------\n",
      "이산형 확률변수를 선택하셨군요.\n",
      "저희는 이산형 확률 분포 중 다음과 같은 형태의 확률변수의 분포만 다루고 있습니다.\n",
      "\n",
      "해당 확률분포에 대한 조건을 확인해 주시고, 가장 적합한 번호를 입력하여 주세요\n",
      "\n",
      "\t1. 베르누이분포, [확률변수가 성공과 실패 단 2가지의 경우만 존재하는 경우입니다. 성공확률(P)을 알고계시다면, 실패확률(1-P)을 알려드립니다!]\n",
      "\n",
      "\t2. 이항분포, [성공확률(P)을 알고 계시는 상황에서, n번의 시도중 X번 성공할 확률을 알고 싶으신가요? 그렇다면 이항분포를 선택하십시오!] \n",
      "\n",
      "\t3. 기하분포, [성공확률(P)을 알고 계시는 상황에서, 계속 실패하다 결국에는 성공하기까지 시행 횟수(X)에 확률을 알아보고 싶으신가요? 그렇다면 기하분포를 선택하십시오!] \n",
      "\n",
      "\t4. 포아송분포, [임의의 사건에 대해서 단위시간당 발생하는 건수,빈도수등에 대한 지표(L)를 알고 계신 상황에서, 발생하는 건수(X)가 달라짐에 따라 그 확률이 어떻게 변화하는지 보고싶으신가요? 그럼 포아송분포를 선택하십시오!]\n",
      "-----------------------------------------------------------------------------------------------------------------------------\n"
     ]
    },
    {
     "name": "stdin",
     "output_type": "stream",
     "text": [
      " 3\n"
     ]
    },
    {
     "name": "stdout",
     "output_type": "stream",
     "text": [
      " 3 번을 선택하셨군요, 기하분포를 활용하여 계산을 도와드릴게요.\n",
      "\n",
      "계속해서 진행을 원하시면 문자 Y를 입력하시고, 그냥 멈추시려면 N을 입력해주세요\n"
     ]
    },
    {
     "name": "stdin",
     "output_type": "stream",
     "text": [
      " y\n"
     ]
    },
    {
     "name": "stdout",
     "output_type": "stream",
     "text": [
      "\t\t기하분포를 계산하는 함수입니다.\n",
      "\t\t성공확률 p, 반복횟수 x를 ',' 로 구분하여 차례로 입력해 주세요.띄어쓰기 하지 말아주세요.!! ex) 0.5,10 \n",
      "\n"
     ]
    },
    {
     "name": "stdin",
     "output_type": "stream",
     "text": [
      " 0.5,10\n"
     ]
    },
    {
     "name": "stdout",
     "output_type": "stream",
     "text": [
      "해당 조건의 확률변수에 대한 확률값은  0.001 이며 10.0 회 이하에 대한 누적확률은 0.999 입니다.\n"
     ]
    }
   ],
   "source": [
    "# 기하분포 - 해당 조건에서의 확률값, 누적확률분포 계산 예시\n",
    "ask_problem_solving()"
   ]
  },
  {
   "cell_type": "code",
   "execution_count": 396,
   "id": "ba3aa160-43e5-41b8-81fd-10e79cb62870",
   "metadata": {
    "tags": []
   },
   "outputs": [
    {
     "name": "stdout",
     "output_type": "stream",
     "text": [
      "안녕하십니까, 단별량 함수에 대한 적분계산과 확률계산을 위한 프로그램입니다.\n",
      "\n",
      " 알아보고자 하는 확률변수가 이산형인지, 연속형인지 선택하여 주세요.\n",
      " 1 : 이산형 \n",
      " 2 : 연속형\n"
     ]
    },
    {
     "name": "stdin",
     "output_type": "stream",
     "text": [
      " 1\n"
     ]
    },
    {
     "name": "stdout",
     "output_type": "stream",
     "text": [
      " 1 번을 선택하셨군요, 이산형를 활용하여 계산을 도와드릴게요.\n",
      "\n",
      "계속해서 진행을 원하시면 문자 Y를 입력하시고, 그냥 멈추시려면 N을 입력해주세요\n"
     ]
    },
    {
     "name": "stdin",
     "output_type": "stream",
     "text": [
      " ㅛ\n"
     ]
    },
    {
     "name": "stdout",
     "output_type": "stream",
     "text": [
      "----------------------------------------------------------------------------------------------------------------------------\n",
      "이산형 확률변수를 선택하셨군요.\n",
      "저희는 이산형 확률 분포 중 다음과 같은 형태의 확률변수의 분포만 다루고 있습니다.\n",
      "\n",
      "해당 확률분포에 대한 조건을 확인해 주시고, 가장 적합한 번호를 입력하여 주세요\n",
      "\n",
      "\t1. 베르누이분포, [확률변수가 성공과 실패 단 2가지의 경우만 존재하는 경우입니다. 성공확률(P)을 알고계시다면, 실패확률(1-P)을 알려드립니다!]\n",
      "\n",
      "\t2. 이항분포, [성공확률(P)을 알고 계시는 상황에서, n번의 시도중 X번 성공할 확률을 알고 싶으신가요? 그렇다면 이항분포를 선택하십시오!] \n",
      "\n",
      "\t3. 기하분포, [성공확률(P)을 알고 계시는 상황에서, 계속 실패하다 결국에는 성공하기까지 시행 횟수(X)에 확률을 알아보고 싶으신가요? 그렇다면 기하분포를 선택하십시오!] \n",
      "\n",
      "\t4. 포아송분포, [임의의 사건에 대해서 단위시간당 발생하는 건수,빈도수등에 대한 지표(L)를 알고 계신 상황에서, 발생하는 건수(X)가 달라짐에 따라 그 확률이 어떻게 변화하는지 보고싶으신가요? 그럼 포아송분포를 선택하십시오!]\n",
      "-----------------------------------------------------------------------------------------------------------------------------\n"
     ]
    },
    {
     "name": "stdin",
     "output_type": "stream",
     "text": [
      " 4\n"
     ]
    },
    {
     "name": "stdout",
     "output_type": "stream",
     "text": [
      " 4 번을 선택하셨군요, 포아송분포를 활용하여 계산을 도와드릴게요.\n",
      "\n",
      "계속해서 진행을 원하시면 문자 Y를 입력하시고, 그냥 멈추시려면 N을 입력해주세요\n"
     ]
    },
    {
     "name": "stdin",
     "output_type": "stream",
     "text": [
      " Y\n"
     ]
    },
    {
     "name": "stdout",
     "output_type": "stream",
     "text": [
      "\t\tLambda값과 발생횟수 x를 ',' 로 구분하여 차례로 입력해 주세요.띄어쓰기 하지 말아주세요. ex) 0.5,10 \n",
      "\n"
     ]
    },
    {
     "name": "stdin",
     "output_type": "stream",
     "text": [
      " 10,15\n"
     ]
    },
    {
     "name": "stdout",
     "output_type": "stream",
     "text": [
      "해당 조건의 확률변수에 대한 확률값은  0.035 이며 15.0 번 이하 에서의 누적확률은 0.951 입니다.\n"
     ]
    }
   ],
   "source": [
    "# 포아송분포 - 해당 조건에서의 확률값, 누적확률분포 계산 예시\n",
    "ask_problem_solving()"
   ]
  },
  {
   "cell_type": "markdown",
   "id": "3774c012-2159-4d79-8dec-be684f1c5802",
   "metadata": {
    "tags": []
   },
   "source": [
    "# [실행결과] 연속형"
   ]
  },
  {
   "cell_type": "code",
   "execution_count": 378,
   "id": "daba0ca6-2c19-4631-b5c9-cafd03b27f41",
   "metadata": {
    "tags": []
   },
   "outputs": [
    {
     "name": "stdout",
     "output_type": "stream",
     "text": [
      "안녕하십니까, 단별량 함수에 대한 적분계산과 확률계산을 위한 프로그램입니다.\n",
      "\n",
      " 알아보고자 하는 확률변수가 이산형인지, 연속형인지 선택하여 주세요.\n",
      " 1 : 이산형 \n",
      " 2 : 연속형\n"
     ]
    },
    {
     "name": "stdin",
     "output_type": "stream",
     "text": [
      " 2\n"
     ]
    },
    {
     "name": "stdout",
     "output_type": "stream",
     "text": [
      " 2 번을 선택하셨군요, 연속형를 활용하여 계산을 도와드릴게요.\n",
      "\n",
      "계속해서 진행을 원하시면 문자 Y를 입력하시고, 그냥 멈추시려면 N을 입력해주세요\n"
     ]
    },
    {
     "name": "stdin",
     "output_type": "stream",
     "text": [
      " y\n"
     ]
    },
    {
     "name": "stdout",
     "output_type": "stream",
     "text": [
      "----------------------------------------------------------------------------------------------------------------------------\n",
      "연속형 확률변수를 선택하셨군요.\n",
      "연속형 확률변수의 경우 함수식 입력이 중요합니다\n",
      "아래의 주의사항에 맞추어 함수식을 입력해 주시면 감사하겠습니다\n",
      "\n",
      "\t !주의1. 제곱은 ^로 표현하여 주시고, 곱하기 연산은 *의 표현을 명확히 부탁드립니다.\n",
      "\t !주의2. exp나 log의 함수를 원하신다면 (변수관련수식)의 입력구분을 명확히 부탁드립니다.\n",
      "\t !주의3. 수식간의 전반적인 연산 표현을 ','로 구분하여 입력을 부탁드립니다. 예시표현식을 필히 참고해 주세요.\n",
      "\t !주의4. 기본적으로 log는 밑이 10인 로그만 다루며,밑이 e인 자연로그를 원하시면 ln으로 표현해 주세요.\n",
      "\t\t  ex) x+x^2, 2개의 수식이 +로 연결되었죠? +구분기호는 입력안하고 쉼표로 --> x,x^2 로 입력 부탁드립니다.\n",
      "\t\t  ex) x-x^2, 2개의 수식이 -로 연결되었죠? -구분기호는 입력이 필요      --> x,-x^2 로 입력 부탁드립니다.\n",
      "\t\t  ex)  x^(log(x)) + exp(x^2) - 300 --> x^(log(x)),exp(x^2),-300 로 입력 부탁드립니다.\n",
      "쉼표 구분 잊지 말아주세요.\n",
      "-----------------------------------------------------------------------------------------------------------------------------\n",
      "\n",
      "위의 주의사항을 잘 이해 하셨나요?\n",
      "그럼 함수식 입력을 부탁드리겠습니다.\n",
      "\n",
      "주의사항이 이해가 되지 않으셨다면 다음 수식을 복사하여 붙여넣어 보세요\n",
      "0.01*exp(-x/100),-20,20  // HW3활용\n"
     ]
    },
    {
     "name": "stdin",
     "output_type": "stream",
     "text": [
      " 0.01*exp(-x/100),-20,20\n"
     ]
    },
    {
     "name": "stdout",
     "output_type": "stream",
     "text": [
      "입력하신 내용은 위와 같습니다.\n",
      "\n",
      "\t 원하시는 함수식은 계산을 위해 다음과 같이 표현됩니다.\n",
      "\n",
      "## 계산을 위해 변환된 식 : 0.01*np.exp(-x/100)-20+20 \n",
      "\n",
      "\t np가 붙는 부분은 고려하지 마시고,제곱은**로 표현되는 점과 부호 및 수식의 전반적인 표현이 원하시는 함수와 같은지 확인을 부탁드립니다.\n",
      "\n",
      "\t ! 혹시 로그를 사용하셨습니까? 수식 변환과정에서 log => log10, ln => log로 표현되니 혼동이 없으시길 바랍니다.\n",
      "진행 하시겠습니까?Y/N?\n"
     ]
    },
    {
     "name": "stdin",
     "output_type": "stream",
     "text": [
      " y\n"
     ]
    },
    {
     "name": "stdout",
     "output_type": "stream",
     "text": [
      "-----------------------------------------------------------------------------------------------------------------------------\n",
      "이제 해당 함수식을 기반으로 누적확률을 계산합니다.\n",
      "\t 연속형 확률분포 함수에서 원하는 범위에서의 적분(누적확률)을 위하여 구간을 설정해 주시면 감사하겠습니다.\n",
      "\t 입력은 ',' 를 구분으로 시작점(x1), 끝점(x2)를 지정해 주세요.띄어쓰기는 하지 마시고 ,로 구분합니다. / ex) 0,8.96 \n"
     ]
    },
    {
     "name": "stdin",
     "output_type": "stream",
     "text": [
      " 0,8.76\n"
     ]
    },
    {
     "name": "stdout",
     "output_type": "stream",
     "text": [
      "0.0 8.76\n",
      "Graph\n"
     ]
    },
    {
     "data": {
      "image/png": "[encoded data removed]",
      "text/plain": [
       "<Figure size 432x288 with 1 Axes>"
      ]
     },
     "metadata": {
      "needs_background": "light"
     },
     "output_type": "display_data"
    },
    {
     "name": "stdout",
     "output_type": "stream",
     "text": [
      "계산결과는 다음과 같습니다. \n",
      " # integrated result = 0.08396\n"
     ]
    }
   ],
   "source": [
    "# 연속형 확률변수 - 누적확률분포 적분 계산 예시 _ HW3번 \n",
    "ask_problem_solving()"
   ]
  },
  {
   "cell_type": "code",
   "execution_count": 387,
   "id": "4a224415-1c68-4ef6-b2c7-b7df4c36019c",
   "metadata": {
    "tags": []
   },
   "outputs": [
    {
     "name": "stdout",
     "output_type": "stream",
     "text": [
      "안녕하십니까, 단별량 함수에 대한 적분계산과 확률계산을 위한 프로그램입니다.\n",
      "\n",
      " 알아보고자 하는 확률변수가 이산형인지, 연속형인지 선택하여 주세요.\n",
      " 1 : 이산형 \n",
      " 2 : 연속형\n"
     ]
    },
    {
     "name": "stdin",
     "output_type": "stream",
     "text": [
      " 2\n"
     ]
    },
    {
     "name": "stdout",
     "output_type": "stream",
     "text": [
      " 2 번을 선택하셨군요, 연속형를 활용하여 계산을 도와드릴게요.\n",
      "\n",
      "계속해서 진행을 원하시면 문자 Y를 입력하시고, 그냥 멈추시려면 N을 입력해주세요\n"
     ]
    },
    {
     "name": "stdin",
     "output_type": "stream",
     "text": [
      " y\n"
     ]
    },
    {
     "name": "stdout",
     "output_type": "stream",
     "text": [
      "----------------------------------------------------------------------------------------------------------------------------\n",
      "연속형 확률변수를 선택하셨군요.\n",
      "연속형 확률변수의 경우 함수식 입력이 중요합니다\n",
      "아래의 주의사항에 맞추어 함수식을 입력해 주시면 감사하겠습니다\n",
      "\n",
      "\t !주의1. 제곱은 ^로 표현하여 주시고, 곱하기 연산은 *의 표현을 명확히 부탁드립니다.\n",
      "\t !주의2. exp나 log의 함수를 원하신다면 (변수관련수식)의 입력구분을 명확히 부탁드립니다.\n",
      "\t !주의3. 수식간의 전반적인 연산 표현을 ','로 구분하여 입력을 부탁드립니다. 예시표현식을 필히 참고해 주세요.\n",
      "\t !주의4. 기본적으로 log는 밑이 10인 로그만 다루며,밑이 e인 자연로그를 원하시면 ln으로 표현해 주세요.\n",
      "\t !주의5. 삼각함수 또한 구현가능합니다. 다만 적분 구간을 정의하실때, 라디언으로 표시해주셔야 하는 점 참고해 주세요\n",
      "\t\t  ex) x+x^2, 2개의 수식이 +로 연결되었죠? +구분기호는 입력안하고 쉼표로 --> x,x^2 로 입력 부탁드립니다.\n",
      "\t\t  ex) x-x^2, 2개의 수식이 -로 연결되었죠? -구분기호는 입력이 필요      --> x,-x^2 로 입력 부탁드립니다.\n",
      "\t\t  ex)  x^(log(x)) + exp(x^2) - 300 --> x^(log(x)),exp(x^2),-300 로 입력 부탁드립니다.\n",
      "쉼표 구분 잊지 말아주세요.\n",
      "-----------------------------------------------------------------------------------------------------------------------------\n",
      "\n",
      "위의 주의사항을 잘 이해 하셨나요?\n",
      "그럼 함수식 입력을 부탁드리겠습니다.\n",
      "\n",
      "주의사항이 이해가 되지 않으셨다면 다음 수식을 복사하여 붙여넣어 보세요\n",
      "0.01*exp(-x/100),-20,20  // HW3활용\n"
     ]
    },
    {
     "name": "stdin",
     "output_type": "stream",
     "text": [
      " sin(x)\n"
     ]
    },
    {
     "name": "stdout",
     "output_type": "stream",
     "text": [
      "입력하신 내용은 위와 같습니다.\n",
      "\n",
      "\t 원하시는 함수식은 계산을 위해 다음과 같이 표현됩니다.\n",
      "\n",
      "## 계산을 위해 변환된 식 : np.sin(x) \n",
      "\n",
      "\t np가 붙는 부분은 고려하지 마시고,제곱은**로 표현되는 점과 부호 및 수식의 전반적인 표현이 원하시는 함수와 같은지 확인을 부탁드립니다.\n",
      "\n",
      "\t ! 혹시 로그를 사용하셨습니까? 수식 변환과정에서 log => log10, ln => log로 표현되니 혼동이 없으시길 바랍니다.\n",
      "진행 하시겠습니까?Y/N?\n"
     ]
    },
    {
     "name": "stdin",
     "output_type": "stream",
     "text": [
      " y\n"
     ]
    },
    {
     "name": "stdout",
     "output_type": "stream",
     "text": [
      "-----------------------------------------------------------------------------------------------------------------------------\n",
      "이제 해당 함수식을 기반으로 누적확률을 계산합니다.\n",
      "\t 연속형 확률분포 함수에서 원하는 범위에서의 적분(누적확률)을 위하여 구간을 설정해 주시면 감사하겠습니다.\n",
      "\t 입력은 ',' 를 구분으로 시작점(x1), 끝점(x2)를 지정해 주세요.띄어쓰기는 하지 마시고 ,로 구분합니다. / ex) 0,8.96 \n",
      "\t 삼각함수의 경우 라디언으로 표시하여야 합니다. 따라서 생각하시는 값이 각도라면 라디언으로 (*pi/180) 변환 후 입력해 주세요.\n"
     ]
    },
    {
     "name": "stdin",
     "output_type": "stream",
     "text": [
      " 0,3.14\n"
     ]
    },
    {
     "name": "stdout",
     "output_type": "stream",
     "text": [
      "0.0 3.14\n",
      "Graph\n"
     ]
    },
    {
     "data": {
      "image/png": "[encoded data removed]",
      "text/plain": [
       "<Figure size 432x288 with 1 Axes>"
      ]
     },
     "metadata": {
      "needs_background": "light"
     },
     "output_type": "display_data"
    },
    {
     "name": "stdout",
     "output_type": "stream",
     "text": [
      "계산결과는 다음과 같습니다. \n",
      " # integrated result = 2.00000\n"
     ]
    }
   ],
   "source": [
    "# 연속형 확률변수 - 누적확률분포 적분 계산 예시 _ Sin 함수 \n",
    "ask_problem_solving()"
   ]
  },
  {
   "cell_type": "code",
   "execution_count": 402,
   "id": "abed75ab-c4a6-4557-9646-7930201d87db",
   "metadata": {
    "tags": []
   },
   "outputs": [
    {
     "name": "stdout",
     "output_type": "stream",
     "text": [
      "안녕하십니까, 단별량 함수에 대한 적분계산과 확률계산을 위한 프로그램입니다.\n",
      "\n",
      " 알아보고자 하는 확률변수가 이산형인지, 연속형인지 선택하여 주세요.\n",
      " 1 : 이산형 \n",
      " 2 : 연속형\n"
     ]
    },
    {
     "name": "stdin",
     "output_type": "stream",
     "text": [
      " 2\n"
     ]
    },
    {
     "name": "stdout",
     "output_type": "stream",
     "text": [
      " 2 번을 선택하셨군요, 연속형를 활용하여 계산을 도와드릴게요.\n",
      "\n",
      "계속해서 진행을 원하시면 문자 Y를 입력하시고, 그냥 멈추시려면 N을 입력해주세요\n"
     ]
    },
    {
     "name": "stdin",
     "output_type": "stream",
     "text": [
      " y\n"
     ]
    },
    {
     "name": "stdout",
     "output_type": "stream",
     "text": [
      "----------------------------------------------------------------------------------------------------------------------------\n",
      "연속형 확률변수를 선택하셨군요.\n",
      "연속형 확률변수의 경우 함수식 입력이 중요합니다\n",
      "아래의 주의사항에 맞추어 함수식을 입력해 주시면 감사하겠습니다\n",
      "\n",
      "\t !주의0. 소문자로 변수를 표현해 주세요// ex) x^2, 2x\n",
      "\t !주의1. 제곱은 ^로 표현하여 주시고, 곱하기 연산은 *의 표현을 명확히 부탁드립니다.\n",
      "\t !주의2. exp나 log의 함수를 원하신다면 (변수관련수식)의 입력구분을 명확히 부탁드립니다.\n",
      "\t !주의3. 수식간의 전반적인 연산 표현을 ','로 구분하여 입력을 부탁드립니다. 예시표현식을 필히 참고해 주세요.\n",
      "\t !주의4. 기본적으로 log는 밑이 10인 로그만 다루며,밑이 e인 자연로그를 원하시면 ln으로 표현해 주세요.\n",
      "\t !주의5. 삼각함수 또한 구현가능합니다. 다만 적분 구간을 정의하실때, 라디언으로 표시해주셔야 하는 점 참고해 주세요\n",
      "\t\t  ex) x+x^2, 2개의 수식이 +로 연결되었죠? +구분기호는 입력안하고 쉼표로 --> x,x^2 로 입력 부탁드립니다.\n",
      "\t\t  ex) x-x^2, 2개의 수식이 -로 연결되었죠? -구분기호는 입력이 필요      --> x,-x^2 로 입력 부탁드립니다.\n",
      "\t\t  ex)  x^(log(x)) + exp(x^2) - 300 --> x^(log(x)),exp(x^2),-300 로 입력 부탁드립니다.\n",
      "쉼표 구분 잊지 말아주세요.\n",
      "-----------------------------------------------------------------------------------------------------------------------------\n",
      "\n",
      "위의 주의사항을 잘 이해 하셨나요?\n",
      "그럼 함수식 입력을 부탁드리겠습니다.\n",
      "\n",
      "주의사항이 이해가 되지 않으셨다면 다음 수식을 복사하여 붙여넣어 보세요\n",
      "0.01*exp(-x/100),-20,20  // HW3활용\n"
     ]
    },
    {
     "name": "stdin",
     "output_type": "stream",
     "text": [
      " x^3,x^2\n"
     ]
    },
    {
     "name": "stdout",
     "output_type": "stream",
     "text": [
      "입력하신 내용은 위와 같습니다.\n",
      "\n",
      "\t 원하시는 함수식은 계산을 위해 다음과 같이 표현됩니다.\n",
      "\n",
      "## 계산을 위해 변환된 식 : x**3+x**2 \n",
      "\n",
      "\t np가 붙는 부분은 고려하지 마시고,제곱은**로 표현되는 점과 부호 및 수식의 전반적인 표현이 원하시는 함수와 같은지 확인을 부탁드립니다.\n",
      "\n",
      "\t ! 혹시 로그를 사용하셨습니까? 수식 변환과정에서 log => log10, ln => log로 표현되니 혼동이 없으시길 바랍니다.\n",
      "진행 하시겠습니까?Y/N?\n"
     ]
    },
    {
     "name": "stdin",
     "output_type": "stream",
     "text": [
      " y\n"
     ]
    },
    {
     "name": "stdout",
     "output_type": "stream",
     "text": [
      "-----------------------------------------------------------------------------------------------------------------------------\n",
      "이제 해당 함수식을 기반으로 누적확률을 계산합니다.\n",
      "\t 연속형 확률분포 함수에서 원하는 범위에서의 적분(누적확률)을 위하여 구간을 설정해 주시면 감사하겠습니다.\n",
      "\t 입력은 ',' 를 구분으로 시작점(x1), 끝점(x2)를 지정해 주세요.띄어쓰기는 하지 마시고 ,로 구분합니다. / ex) 0,8.76 \n",
      "\t 삼각함수의 경우 라디언으로 표시하여야 합니다. 따라서 생각하시는 값이 각도라면 라디언으로 (*pi/180) 변환 후 입력해 주세요.\n"
     ]
    },
    {
     "name": "stdin",
     "output_type": "stream",
     "text": [
      " -1,10\n"
     ]
    },
    {
     "name": "stdout",
     "output_type": "stream",
     "text": [
      "-1.0 10.0\n",
      "Graph\n"
     ]
    },
    {
     "data": {
      "image/png": "[encoded data removed]",
      "text/plain": [
       "<Figure size 432x288 with 1 Axes>"
      ]
     },
     "metadata": {
      "needs_background": "light"
     },
     "output_type": "display_data"
    },
    {
     "name": "stdout",
     "output_type": "stream",
     "text": [
      "계산결과는 다음과 같습니다. \n",
      " # integrated result = 2839.47595\n"
     ]
    }
   ],
   "source": [
    "# 연속형 확률변수 - 누적확률분포 적분 계산 예시 _ 일반 연속함수 \n",
    "ask_problem_solving()"
   ]
  },
  {
   "cell_type": "code",
   "execution_count": null,
   "id": "07a37410-0948-4442-868a-fbab2585c6b7",
   "metadata": {},
   "outputs": [],
   "source": []
  }
 ],
 "metadata": {
  "kernelspec": {
   "display_name": "Python 3 (ipykernel)",
   "language": "python",
   "name": "python3"
  },
  "language_info": {
   "codemirror_mode": {
    "name": "ipython",
    "version": 3
   },
   "file_extension": ".py",
   "mimetype": "text/x-python",
   "name": "python",
   "nbconvert_exporter": "python",
   "pygments_lexer": "ipython3",
   "version": "3.9.7"
  }
 },
 "nbformat": 4,
 "nbformat_minor": 5
}
